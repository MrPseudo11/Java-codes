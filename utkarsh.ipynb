{
 "cells": [
  {
   "cell_type": "code",
   "execution_count": 1,
   "id": "230c527a-5a70-47c7-9e7c-dde0a176d5c1",
   "metadata": {},
   "outputs": [],
   "source": [
    "import pandas as pd\n",
    "import numpy as np\n",
    "import re \n",
    "from nltk.corpus import stopwords\n",
    "from nltk.stem.porter import PorterStemmer\n",
    "from sklearn.feature_extraction.text import TfidfVectorizer\n",
    "from sklearn.model_selection import train_test_split\n",
    "from sklearn.linear_model import LogisticRegression\n",
    "from sklearn.metrics import accuracy_score"
   ]
  },
  {
   "cell_type": "code",
   "execution_count": 2,
   "id": "51d58581-ad99-4d10-8c11-cd1c841d813f",
   "metadata": {},
   "outputs": [],
   "source": [
    "df = pd.read_csv(\"archive.zip\",encoding = 'ISO-8859-1')"
   ]
  },
  {
   "cell_type": "code",
   "execution_count": 3,
   "id": "312ae492-819b-4ced-8cbf-59e1817ed706",
   "metadata": {},
   "outputs": [
    {
     "name": "stderr",
     "output_type": "stream",
     "text": [
      "[nltk_data] Downloading package stopwords to\n",
      "[nltk_data]     C:\\Users\\dell\\AppData\\Roaming\\nltk_data...\n",
      "[nltk_data]   Package stopwords is already up-to-date!\n"
     ]
    },
    {
     "data": {
      "text/plain": [
       "True"
      ]
     },
     "execution_count": 3,
     "metadata": {},
     "output_type": "execute_result"
    }
   ],
   "source": [
    "import nltk\n",
    "nltk.download('stopwords')"
   ]
  },
  {
   "cell_type": "code",
   "execution_count": 4,
   "id": "c3297693-6c3a-4b44-a2d3-3ec8e35e4d78",
   "metadata": {},
   "outputs": [
    {
     "name": "stdout",
     "output_type": "stream",
     "text": [
      "['i', 'me', 'my', 'myself', 'we', 'our', 'ours', 'ourselves', 'you', \"you're\", \"you've\", \"you'll\", \"you'd\", 'your', 'yours', 'yourself', 'yourselves', 'he', 'him', 'his', 'himself', 'she', \"she's\", 'her', 'hers', 'herself', 'it', \"it's\", 'its', 'itself', 'they', 'them', 'their', 'theirs', 'themselves', 'what', 'which', 'who', 'whom', 'this', 'that', \"that'll\", 'these', 'those', 'am', 'is', 'are', 'was', 'were', 'be', 'been', 'being', 'have', 'has', 'had', 'having', 'do', 'does', 'did', 'doing', 'a', 'an', 'the', 'and', 'but', 'if', 'or', 'because', 'as', 'until', 'while', 'of', 'at', 'by', 'for', 'with', 'about', 'against', 'between', 'into', 'through', 'during', 'before', 'after', 'above', 'below', 'to', 'from', 'up', 'down', 'in', 'out', 'on', 'off', 'over', 'under', 'again', 'further', 'then', 'once', 'here', 'there', 'when', 'where', 'why', 'how', 'all', 'any', 'both', 'each', 'few', 'more', 'most', 'other', 'some', 'such', 'no', 'nor', 'not', 'only', 'own', 'same', 'so', 'than', 'too', 'very', 's', 't', 'can', 'will', 'just', 'don', \"don't\", 'should', \"should've\", 'now', 'd', 'll', 'm', 'o', 're', 've', 'y', 'ain', 'aren', \"aren't\", 'couldn', \"couldn't\", 'didn', \"didn't\", 'doesn', \"doesn't\", 'hadn', \"hadn't\", 'hasn', \"hasn't\", 'haven', \"haven't\", 'isn', \"isn't\", 'ma', 'mightn', \"mightn't\", 'mustn', \"mustn't\", 'needn', \"needn't\", 'shan', \"shan't\", 'shouldn', \"shouldn't\", 'wasn', \"wasn't\", 'weren', \"weren't\", 'won', \"won't\", 'wouldn', \"wouldn't\"]\n"
     ]
    }
   ],
   "source": [
    "#  printing the stop word in english that are used in our tweets data \n",
    "# sstopwords :- those words which are ignored by the machine codes\n",
    "print(stopwords.words('english'))"
   ]
  },
  {
   "cell_type": "code",
   "execution_count": 5,
   "id": "47c85033-0579-469e-94bc-2520db533cc1",
   "metadata": {},
   "outputs": [],
   "source": [
    "df=pd.read_csv('archive.zip',encoding='ISO-8859-1')"
   ]
  },
  {
   "cell_type": "code",
   "execution_count": 6,
   "id": "c84c41d1-dd24-4d74-adfd-e30938dceb66",
   "metadata": {},
   "outputs": [
    {
     "data": {
      "text/plain": [
       "(1599999, 6)"
      ]
     },
     "execution_count": 6,
     "metadata": {},
     "output_type": "execute_result"
    }
   ],
   "source": [
    "df.shape"
   ]
  },
  {
   "cell_type": "code",
   "execution_count": 8,
   "id": "e2ec0fab-a34c-4f38-abd9-9642eab712b2",
   "metadata": {
    "scrolled": true
   },
   "outputs": [
    {
     "data": {
      "text/html": [
       "<div>\n",
       "<style scoped>\n",
       "    .dataframe tbody tr th:only-of-type {\n",
       "        vertical-align: middle;\n",
       "    }\n",
       "\n",
       "    .dataframe tbody tr th {\n",
       "        vertical-align: top;\n",
       "    }\n",
       "\n",
       "    .dataframe thead th {\n",
       "        text-align: right;\n",
       "    }\n",
       "</style>\n",
       "<table border=\"1\" class=\"dataframe\">\n",
       "  <thead>\n",
       "    <tr style=\"text-align: right;\">\n",
       "      <th></th>\n",
       "      <th>0</th>\n",
       "      <th>1467810369</th>\n",
       "      <th>Mon Apr 06 22:19:45 PDT 2009</th>\n",
       "      <th>NO_QUERY</th>\n",
       "      <th>_TheSpecialOne_</th>\n",
       "      <th>@switchfoot http://twitpic.com/2y1zl - Awww, that's a bummer.  You shoulda got David Carr of Third Day to do it. ;D</th>\n",
       "    </tr>\n",
       "  </thead>\n",
       "  <tbody>\n",
       "    <tr>\n",
       "      <th>0</th>\n",
       "      <td>0</td>\n",
       "      <td>1467810672</td>\n",
       "      <td>Mon Apr 06 22:19:49 PDT 2009</td>\n",
       "      <td>NO_QUERY</td>\n",
       "      <td>scotthamilton</td>\n",
       "      <td>is upset that he can't update his Facebook by ...</td>\n",
       "    </tr>\n",
       "    <tr>\n",
       "      <th>1</th>\n",
       "      <td>0</td>\n",
       "      <td>1467810917</td>\n",
       "      <td>Mon Apr 06 22:19:53 PDT 2009</td>\n",
       "      <td>NO_QUERY</td>\n",
       "      <td>mattycus</td>\n",
       "      <td>@Kenichan I dived many times for the ball. Man...</td>\n",
       "    </tr>\n",
       "    <tr>\n",
       "      <th>2</th>\n",
       "      <td>0</td>\n",
       "      <td>1467811184</td>\n",
       "      <td>Mon Apr 06 22:19:57 PDT 2009</td>\n",
       "      <td>NO_QUERY</td>\n",
       "      <td>ElleCTF</td>\n",
       "      <td>my whole body feels itchy and like its on fire</td>\n",
       "    </tr>\n",
       "    <tr>\n",
       "      <th>3</th>\n",
       "      <td>0</td>\n",
       "      <td>1467811193</td>\n",
       "      <td>Mon Apr 06 22:19:57 PDT 2009</td>\n",
       "      <td>NO_QUERY</td>\n",
       "      <td>Karoli</td>\n",
       "      <td>@nationwideclass no, it's not behaving at all....</td>\n",
       "    </tr>\n",
       "    <tr>\n",
       "      <th>4</th>\n",
       "      <td>0</td>\n",
       "      <td>1467811372</td>\n",
       "      <td>Mon Apr 06 22:20:00 PDT 2009</td>\n",
       "      <td>NO_QUERY</td>\n",
       "      <td>joy_wolf</td>\n",
       "      <td>@Kwesidei not the whole crew</td>\n",
       "    </tr>\n",
       "  </tbody>\n",
       "</table>\n",
       "</div>"
      ],
      "text/plain": [
       "   0  1467810369  Mon Apr 06 22:19:45 PDT 2009  NO_QUERY _TheSpecialOne_  \\\n",
       "0  0  1467810672  Mon Apr 06 22:19:49 PDT 2009  NO_QUERY   scotthamilton   \n",
       "1  0  1467810917  Mon Apr 06 22:19:53 PDT 2009  NO_QUERY        mattycus   \n",
       "2  0  1467811184  Mon Apr 06 22:19:57 PDT 2009  NO_QUERY         ElleCTF   \n",
       "3  0  1467811193  Mon Apr 06 22:19:57 PDT 2009  NO_QUERY          Karoli   \n",
       "4  0  1467811372  Mon Apr 06 22:20:00 PDT 2009  NO_QUERY        joy_wolf   \n",
       "\n",
       "  @switchfoot http://twitpic.com/2y1zl - Awww, that's a bummer.  You shoulda got David Carr of Third Day to do it. ;D  \n",
       "0  is upset that he can't update his Facebook by ...                                                                   \n",
       "1  @Kenichan I dived many times for the ball. Man...                                                                   \n",
       "2    my whole body feels itchy and like its on fire                                                                    \n",
       "3  @nationwideclass no, it's not behaving at all....                                                                   \n",
       "4                      @Kwesidei not the whole crew                                                                    "
      ]
     },
     "execution_count": 8,
     "metadata": {},
     "output_type": "execute_result"
    }
   ],
   "source": [
    "# it is not reading the column name  \n",
    "df.head()"
   ]
  },
  {
   "cell_type": "code",
   "execution_count": 7,
   "id": "1d05ade4-1f04-49ae-b8d7-b454f7441dd6",
   "metadata": {},
   "outputs": [],
   "source": [
    "column_name = ['Target','Id','Date','Flag','User','Text']\n",
    "df = pd.read_csv(\"archive.zip\",names=column_name,encoding = 'ISO-8859-1')"
   ]
  },
  {
   "cell_type": "code",
   "execution_count": 8,
   "id": "af2ad21a-0a9e-4c01-9648-42f27a814e93",
   "metadata": {},
   "outputs": [
    {
     "data": {
      "text/html": [
       "<div>\n",
       "<style scoped>\n",
       "    .dataframe tbody tr th:only-of-type {\n",
       "        vertical-align: middle;\n",
       "    }\n",
       "\n",
       "    .dataframe tbody tr th {\n",
       "        vertical-align: top;\n",
       "    }\n",
       "\n",
       "    .dataframe thead th {\n",
       "        text-align: right;\n",
       "    }\n",
       "</style>\n",
       "<table border=\"1\" class=\"dataframe\">\n",
       "  <thead>\n",
       "    <tr style=\"text-align: right;\">\n",
       "      <th></th>\n",
       "      <th>Target</th>\n",
       "      <th>Id</th>\n",
       "      <th>Date</th>\n",
       "      <th>Flag</th>\n",
       "      <th>User</th>\n",
       "      <th>Text</th>\n",
       "    </tr>\n",
       "  </thead>\n",
       "  <tbody>\n",
       "    <tr>\n",
       "      <th>0</th>\n",
       "      <td>0</td>\n",
       "      <td>1467810369</td>\n",
       "      <td>Mon Apr 06 22:19:45 PDT 2009</td>\n",
       "      <td>NO_QUERY</td>\n",
       "      <td>_TheSpecialOne_</td>\n",
       "      <td>@switchfoot http://twitpic.com/2y1zl - Awww, t...</td>\n",
       "    </tr>\n",
       "    <tr>\n",
       "      <th>1</th>\n",
       "      <td>0</td>\n",
       "      <td>1467810672</td>\n",
       "      <td>Mon Apr 06 22:19:49 PDT 2009</td>\n",
       "      <td>NO_QUERY</td>\n",
       "      <td>scotthamilton</td>\n",
       "      <td>is upset that he can't update his Facebook by ...</td>\n",
       "    </tr>\n",
       "    <tr>\n",
       "      <th>2</th>\n",
       "      <td>0</td>\n",
       "      <td>1467810917</td>\n",
       "      <td>Mon Apr 06 22:19:53 PDT 2009</td>\n",
       "      <td>NO_QUERY</td>\n",
       "      <td>mattycus</td>\n",
       "      <td>@Kenichan I dived many times for the ball. Man...</td>\n",
       "    </tr>\n",
       "    <tr>\n",
       "      <th>3</th>\n",
       "      <td>0</td>\n",
       "      <td>1467811184</td>\n",
       "      <td>Mon Apr 06 22:19:57 PDT 2009</td>\n",
       "      <td>NO_QUERY</td>\n",
       "      <td>ElleCTF</td>\n",
       "      <td>my whole body feels itchy and like its on fire</td>\n",
       "    </tr>\n",
       "    <tr>\n",
       "      <th>4</th>\n",
       "      <td>0</td>\n",
       "      <td>1467811193</td>\n",
       "      <td>Mon Apr 06 22:19:57 PDT 2009</td>\n",
       "      <td>NO_QUERY</td>\n",
       "      <td>Karoli</td>\n",
       "      <td>@nationwideclass no, it's not behaving at all....</td>\n",
       "    </tr>\n",
       "  </tbody>\n",
       "</table>\n",
       "</div>"
      ],
      "text/plain": [
       "   Target          Id                          Date      Flag  \\\n",
       "0       0  1467810369  Mon Apr 06 22:19:45 PDT 2009  NO_QUERY   \n",
       "1       0  1467810672  Mon Apr 06 22:19:49 PDT 2009  NO_QUERY   \n",
       "2       0  1467810917  Mon Apr 06 22:19:53 PDT 2009  NO_QUERY   \n",
       "3       0  1467811184  Mon Apr 06 22:19:57 PDT 2009  NO_QUERY   \n",
       "4       0  1467811193  Mon Apr 06 22:19:57 PDT 2009  NO_QUERY   \n",
       "\n",
       "              User                                               Text  \n",
       "0  _TheSpecialOne_  @switchfoot http://twitpic.com/2y1zl - Awww, t...  \n",
       "1    scotthamilton  is upset that he can't update his Facebook by ...  \n",
       "2         mattycus  @Kenichan I dived many times for the ball. Man...  \n",
       "3          ElleCTF    my whole body feels itchy and like its on fire   \n",
       "4           Karoli  @nationwideclass no, it's not behaving at all....  "
      ]
     },
     "execution_count": 8,
     "metadata": {},
     "output_type": "execute_result"
    }
   ],
   "source": [
    "df.head()"
   ]
  },
  {
   "cell_type": "code",
   "execution_count": 9,
   "id": "50334f99-4cea-4323-a6c8-52fce13be98b",
   "metadata": {},
   "outputs": [
    {
     "data": {
      "text/plain": [
       "(1600000, 6)"
      ]
     },
     "execution_count": 9,
     "metadata": {},
     "output_type": "execute_result"
    }
   ],
   "source": [
    "df.shape"
   ]
  },
  {
   "cell_type": "code",
   "execution_count": 10,
   "id": "1e737b38-ceed-4138-804d-d1426cfaf5f5",
   "metadata": {},
   "outputs": [
    {
     "data": {
      "text/plain": [
       "Target    0\n",
       "Id        0\n",
       "Date      0\n",
       "Flag      0\n",
       "User      0\n",
       "Text      0\n",
       "dtype: int64"
      ]
     },
     "execution_count": 10,
     "metadata": {},
     "output_type": "execute_result"
    }
   ],
   "source": [
    "df.isnull().sum()"
   ]
  },
  {
   "cell_type": "code",
   "execution_count": 11,
   "id": "5bbf4bae-1b1e-42aa-8eb6-37c5f26ba621",
   "metadata": {},
   "outputs": [
    {
     "data": {
      "text/plain": [
       "Target\n",
       "0    800000\n",
       "4    800000\n",
       "Name: count, dtype: int64"
      ]
     },
     "execution_count": 11,
     "metadata": {},
     "output_type": "execute_result"
    }
   ],
   "source": [
    "df['Target'].value_counts()"
   ]
  },
  {
   "cell_type": "code",
   "execution_count": 12,
   "id": "52265ab1-f32b-4fc8-970f-291a4cbc991b",
   "metadata": {},
   "outputs": [],
   "source": [
    "df.replace({'Target':{4:1}},inplace=True)"
   ]
  },
  {
   "cell_type": "code",
   "execution_count": 13,
   "id": "ab6cb6b6-bcad-4e6c-9d0a-3c7040273795",
   "metadata": {},
   "outputs": [
    {
     "data": {
      "text/plain": [
       "Target\n",
       "0    800000\n",
       "1    800000\n",
       "Name: count, dtype: int64"
      ]
     },
     "execution_count": 13,
     "metadata": {},
     "output_type": "execute_result"
    }
   ],
   "source": [
    "df['Target'].value_counts()"
   ]
  },
  {
   "cell_type": "code",
   "execution_count": 14,
   "id": "f819f8ea-36a3-4f9b-a3ff-795b238fec74",
   "metadata": {},
   "outputs": [
    {
     "name": "stdout",
     "output_type": "stream",
     "text": [
      "Index(['Target', 'Id', 'Date', 'Flag', 'User', 'Text'], dtype='object')\n"
     ]
    }
   ],
   "source": [
    "print(df.columns)"
   ]
  },
  {
   "cell_type": "code",
   "execution_count": 16,
   "id": "0a7cc2c5-02cc-4831-a305-fdba77b2e026",
   "metadata": {},
   "outputs": [],
   "source": [
    "# stremming is the process of reducing the word to its root word\n",
    "port_stem = PorterStemmer()"
   ]
  },
  {
   "cell_type": "code",
   "execution_count": 17,
   "id": "6fb9308d-b9fa-4f66-a203-8dda65fb4289",
   "metadata": {},
   "outputs": [],
   "source": [
    "def stemming(content):\n",
    "    # removing unwanted content from the tweet \n",
    "    stemmed_content =re.sub('[^a-zA-Z]',' ',content)\n",
    "    stemmed_content = stemmed_content.lower()\n",
    "    stemmed_content = stemmed_content.split() \n",
    "    stemmed_content = [port_stem.stem(word) for word in stemmed_content if not word in stopwords.words('english')]\n",
    "    stemmed_content = ' '.join(stemmed_content)\n",
    "    \n",
    "    return stemmed_content"
   ]
  },
  {
   "cell_type": "code",
   "execution_count": null,
   "id": "ba3d7070-2b4c-4c49-b430-00822dbcc797",
   "metadata": {},
   "outputs": [],
   "source": [
    "df['stem'] = df['Text'].apply(stemming)"
   ]
  },
  {
   "cell_type": "code",
   "execution_count": null,
   "id": "a4f17a67-2e47-4e5c-8049-e28af008e72e",
   "metadata": {},
   "outputs": [],
   "source": [
    "df.head()"
   ]
  },
  {
   "cell_type": "code",
   "execution_count": null,
   "id": "ff543623-ce38-439b-b765-51a5e04ae7f0",
   "metadata": {},
   "outputs": [],
   "source": [
    "print(df['stem'])"
   ]
  },
  {
   "cell_type": "code",
   "execution_count": 22,
   "id": "f6c1a7be-d1c3-4391-afdb-f57ab89f4c04",
   "metadata": {},
   "outputs": [
    {
     "name": "stdout",
     "output_type": "stream",
     "text": [
      "0          0\n",
      "1          0\n",
      "2          0\n",
      "3          0\n",
      "4          0\n",
      "          ..\n",
      "1599995    1\n",
      "1599996    1\n",
      "1599997    1\n",
      "1599998    1\n",
      "1599999    1\n",
      "Name: Target, Length: 1600000, dtype: int64\n"
     ]
    }
   ],
   "source": [
    "print(df['Target'])"
   ]
  },
  {
   "cell_type": "code",
   "execution_count": 47,
   "id": "2577f6ab-d6d5-47c6-861e-44ea5e3b5a84",
   "metadata": {},
   "outputs": [],
   "source": [
    "# separating the data lable\n",
    "X = df['stem'].values\n",
    "Y = df['Target'].values"
   ]
  },
  {
   "cell_type": "code",
   "execution_count": 48,
   "id": "11c9877c-842b-4110-aecc-c82264ccdd1a",
   "metadata": {},
   "outputs": [
    {
     "name": "stdout",
     "output_type": "stream",
     "text": [
      "['switchfoothttptwitpiccomyzlawwwthatsabummeryoushouldagotdavidcarrofthirddaytodoitd'\n",
      " 'isupsetthathecantupdatehisfacebookbytextingitandmightcryasaresultschooltodayalsoblah'\n",
      " 'kenichanidivedmanytimesfortheballmanagedtosavetherestgooutofbound' ...\n",
      " 'areyoureadyforyourmojomakeoveraskmefordetail'\n",
      " 'happythbirthdaytomybooofallltimetupacamarushakur'\n",
      " 'happycharitytuesdaythenspccsparkscharityspeakinguphh']\n"
     ]
    }
   ],
   "source": [
    "print(X)"
   ]
  },
  {
   "cell_type": "code",
   "execution_count": 49,
   "id": "cbb06777-f4ae-4fae-8a13-680430d3d641",
   "metadata": {},
   "outputs": [
    {
     "name": "stdout",
     "output_type": "stream",
     "text": [
      "[0 0 0 ... 1 1 1]\n"
     ]
    }
   ],
   "source": [
    "print(Y)"
   ]
  },
  {
   "cell_type": "code",
   "execution_count": 60,
   "id": "9cee5c64-b7d7-4634-89c6-ef38e9cfa20d",
   "metadata": {},
   "outputs": [],
   "source": [
    "X_train, X_test,Y_train,Y_test = train_test_split(X,Y,test_size=0.2, stratify=Y, random_state=2)"
   ]
  },
  {
   "cell_type": "code",
   "execution_count": 61,
   "id": "80478b57-f33b-4d52-b785-bde2fc10b841",
   "metadata": {},
   "outputs": [
    {
     "name": "stdout",
     "output_type": "stream",
     "text": [
      "(1600000,) (1280000,) (320000,)\n"
     ]
    }
   ],
   "source": [
    "print(X.shape,X_train.shape,X_test.shape)"
   ]
  },
  {
   "cell_type": "code",
   "execution_count": 62,
   "id": "ed8fd8a8-f36e-4cb8-9954-067571723b85",
   "metadata": {},
   "outputs": [
    {
     "name": "stdout",
     "output_type": "stream",
     "text": [
      "['abouttowatchsawivanddrinkalilwin' 'hatermagazineimin'\n",
      " 'eventhoughitsmyfavouritedrinkithinkitsthevodkaandcokethatwipesmymindallthetimethinkimgonnahavetofindanewdrink'\n",
      " ... 'iseagerformondayafternoon'\n",
      " 'hopeeveryoneandtheirmotherhadagreatdaycantwaittohearwhattheguyshaveinstoretomorrow'\n",
      " 'ilovewakinguptofolgerstoobadmyvoicewasdeeperthanhi']\n"
     ]
    }
   ],
   "source": [
    "print(X_train)"
   ]
  },
  {
   "cell_type": "code",
   "execution_count": 63,
   "id": "5dc9e19c-051f-44e9-a89b-581c8bc7999b",
   "metadata": {},
   "outputs": [
    {
     "name": "stdout",
     "output_type": "stream",
     "text": [
      "['mmangenmdoingfineihaventhadmuchtimetochatontwitterhubbyisbackforthesummeramptendstodominatemyfreetim'\n",
      " 'atahsmayshowwruthkimampgeoffreysanhueza'\n",
      " 'ishataramaybeitwasonlyabayareathangdammit' ...\n",
      " 'destinineverthelesshoorayformembersandhaveawonderfulandsafetrip'\n",
      " 'notfeelingtoowel' 'supersandrothanky']\n"
     ]
    }
   ],
   "source": [
    "print(X_test)"
   ]
  },
  {
   "cell_type": "code",
   "execution_count": 64,
   "id": "8afcacaa-1d18-488b-829e-de5dc3f719ff",
   "metadata": {},
   "outputs": [],
   "source": [
    "\n",
    "# Converting the textual data to numerical data\n",
    "vectorizer = TfidfVectorizer()\n",
    "X_train = vectorizer.fit_transform(X_train)\n",
    "X_test = vectorizer.transform(X_test)\n"
   ]
  },
  {
   "cell_type": "code",
   "execution_count": 66,
   "id": "579ca397-0c7e-4551-aa21-dd3a1939234d",
   "metadata": {},
   "outputs": [
    {
     "name": "stdout",
     "output_type": "stream",
     "text": [
      "  (0, 4269)\t1.0\n",
      "  (1, 370478)\t1.0\n",
      "  (2, 259878)\t1.0\n",
      "  (3, 544662)\t1.0\n",
      "  (4, 1125692)\t1.0\n",
      "  (5, 183084)\t1.0\n",
      "  (6, 655943)\t1.0\n",
      "  (7, 427969)\t1.0\n",
      "  (8, 372293)\t1.0\n",
      "  (9, 414371)\t1.0\n",
      "  (10, 453206)\t1.0\n",
      "  (11, 946311)\t1.0\n",
      "  (12, 1165280)\t1.0\n",
      "  (13, 334893)\t1.0\n",
      "  (14, 1029544)\t1.0\n",
      "  (15, 1251389)\t1.0\n",
      "  (16, 26694)\t1.0\n",
      "  (17, 620642)\t1.0\n",
      "  (18, 371055)\t1.0\n",
      "  (19, 166384)\t1.0\n",
      "  (20, 939661)\t1.0\n",
      "  (21, 392755)\t1.0\n",
      "  (22, 288391)\t1.0\n",
      "  (23, 202689)\t1.0\n",
      "  (24, 1253472)\t1.0\n",
      "  :\t:\n",
      "  (1279975, 97244)\t1.0\n",
      "  (1279976, 1110776)\t1.0\n",
      "  (1279977, 938969)\t1.0\n",
      "  (1279978, 783480)\t1.0\n",
      "  (1279979, 800934)\t1.0\n",
      "  (1279980, 865418)\t1.0\n",
      "  (1279981, 587370)\t1.0\n",
      "  (1279982, 952975)\t1.0\n",
      "  (1279983, 412833)\t1.0\n",
      "  (1279984, 81684)\t1.0\n",
      "  (1279985, 59066)\t1.0\n",
      "  (1279986, 1015971)\t1.0\n",
      "  (1279987, 777243)\t1.0\n",
      "  (1279988, 1218709)\t1.0\n",
      "  (1279989, 450972)\t1.0\n",
      "  (1279990, 465151)\t1.0\n",
      "  (1279991, 249222)\t1.0\n",
      "  (1279992, 1169847)\t1.0\n",
      "  (1279993, 1170137)\t1.0\n",
      "  (1279994, 75555)\t1.0\n",
      "  (1279995, 1106989)\t1.0\n",
      "  (1279996, 561111)\t1.0\n",
      "  (1279997, 516692)\t1.0\n",
      "  (1279998, 400780)\t1.0\n",
      "  (1279999, 469313)\t1.0\n"
     ]
    }
   ],
   "source": [
    "print(X_train)"
   ]
  },
  {
   "cell_type": "code",
   "execution_count": 58,
   "id": "ef8a15c3-e097-44cd-86eb-34c20fa96fc0",
   "metadata": {},
   "outputs": [
    {
     "name": "stdout",
     "output_type": "stream",
     "text": [
      "  (22, 137709)\t1.0\n",
      "  (36, 790487)\t1.0\n",
      "  (55, 1232068)\t1.0\n",
      "  (104, 806213)\t1.0\n",
      "  (316, 675309)\t1.0\n",
      "  (317, 183110)\t1.0\n",
      "  (326, 530902)\t1.0\n",
      "  (343, 483231)\t1.0\n",
      "  (356, 1004786)\t1.0\n",
      "  (405, 294045)\t1.0\n",
      "  (411, 754846)\t1.0\n",
      "  (412, 671785)\t1.0\n",
      "  (503, 922733)\t1.0\n",
      "  (575, 484365)\t1.0\n",
      "  (576, 68315)\t1.0\n",
      "  (585, 553737)\t1.0\n",
      "  (597, 437993)\t1.0\n",
      "  (704, 437477)\t1.0\n",
      "  (730, 522522)\t1.0\n",
      "  (735, 1190472)\t1.0\n",
      "  (763, 201539)\t1.0\n",
      "  (851, 230654)\t1.0\n",
      "  (887, 945330)\t1.0\n",
      "  (905, 1080766)\t1.0\n",
      "  (965, 64114)\t1.0\n",
      "  :\t:\n",
      "  (319388, 469685)\t1.0\n",
      "  (319391, 363430)\t1.0\n",
      "  (319401, 69390)\t1.0\n",
      "  (319403, 1010168)\t1.0\n",
      "  (319419, 435823)\t1.0\n",
      "  (319442, 1154002)\t1.0\n",
      "  (319462, 331998)\t1.0\n",
      "  (319474, 363236)\t1.0\n",
      "  (319550, 1020181)\t1.0\n",
      "  (319573, 1087679)\t1.0\n",
      "  (319595, 377142)\t1.0\n",
      "  (319630, 416243)\t1.0\n",
      "  (319632, 324586)\t1.0\n",
      "  (319640, 333810)\t1.0\n",
      "  (319649, 564791)\t1.0\n",
      "  (319673, 473916)\t1.0\n",
      "  (319679, 363450)\t1.0\n",
      "  (319687, 874322)\t1.0\n",
      "  (319700, 937693)\t1.0\n",
      "  (319712, 230590)\t1.0\n",
      "  (319779, 553484)\t1.0\n",
      "  (319838, 1251413)\t1.0\n",
      "  (319891, 945330)\t1.0\n",
      "  (319931, 1137735)\t1.0\n",
      "  (319998, 836150)\t1.0\n"
     ]
    }
   ],
   "source": [
    "print(X_test)"
   ]
  },
  {
   "cell_type": "code",
   "execution_count": null,
   "id": "a4ad6adc-8033-45e8-b711-f7712e76b11e",
   "metadata": {},
   "outputs": [],
   "source": [
    "model = LogisticRegression(max_itr =1000)"
   ]
  },
  {
   "cell_type": "code",
   "execution_count": null,
   "id": "af0bbbbd-dabc-41d5-88d8-2c04b412c485",
   "metadata": {},
   "outputs": [],
   "source": [
    "model.fit(X_train,Y_train)"
   ]
  },
  {
   "cell_type": "code",
   "execution_count": null,
   "id": "4a1367b6-4685-413b-aa60-ce5243432ed0",
   "metadata": {},
   "outputs": [],
   "source": [
    "X_train_prediction = model.predict(X_train)\n",
    "training_data_accuracy = accuracy_score(Y_train,X_train_prediction)"
   ]
  },
  {
   "cell_type": "code",
   "execution_count": null,
   "id": "164de5f4-923d-4923-a74e-6d0d63f2252e",
   "metadata": {},
   "outputs": [],
   "source": [
    "print(training_data_accuracy)"
   ]
  },
  {
   "cell_type": "code",
   "execution_count": null,
   "id": "a1703970-9ed5-4a22-b671-fb7b53cfea50",
   "metadata": {},
   "outputs": [],
   "source": [
    "X_test_prediction = model.predict(X_test)\n",
    "test_data_accuracy = accuracy_score(Y_test,X_test_prediction)"
   ]
  },
  {
   "cell_type": "code",
   "execution_count": null,
   "id": "b11e3b40-d47d-4133-9206-6bc2bb31b1a6",
   "metadata": {},
   "outputs": [],
   "source": [
    "print(test_data_accuracy)"
   ]
  },
  {
   "cell_type": "code",
   "execution_count": null,
   "id": "3fd6656b-513c-4d3f-9830-cd46abe91f3f",
   "metadata": {},
   "outputs": [],
   "source": [
    "import pickle"
   ]
  },
  {
   "cell_type": "code",
   "execution_count": null,
   "id": "4896690a-47a9-499b-8c29-4eb17e641ad9",
   "metadata": {},
   "outputs": [],
   "source": [
    "filename='Trained_model_csv'\n",
    "pickle.dump(model, open(filename,'wb'))"
   ]
  }
 ],
 "metadata": {
  "kernelspec": {
   "display_name": "Python 3 (ipykernel)",
   "language": "python",
   "name": "python3"
  },
  "language_info": {
   "codemirror_mode": {
    "name": "ipython",
    "version": 3
   },
   "file_extension": ".py",
   "mimetype": "text/x-python",
   "name": "python",
   "nbconvert_exporter": "python",
   "pygments_lexer": "ipython3",
   "version": "3.12.4"
  }
 },
 "nbformat": 4,
 "nbformat_minor": 5
}
