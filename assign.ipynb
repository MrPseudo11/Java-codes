{
 "cells": [
  {
   "cell_type": "code",
   "execution_count": 1,
   "id": "810a8142-c4fb-4072-912e-a834c3f5314f",
   "metadata": {},
   "outputs": [
    {
     "name": "stdout",
     "output_type": "stream",
     "text": [
      "Welcome to the Virtual Pet Simulator!\n"
     ]
    },
    {
     "name": "stdin",
     "output_type": "stream",
     "text": [
      "What would you like to name your pet?  tommy\n"
     ]
    },
    {
     "name": "stdout",
     "output_type": "stream",
     "text": [
      "\n",
      "What would you like to do?\n",
      "1. Feed the pet\n",
      "2. Play with the pet\n",
      "3. Check the pet's status\n",
      "4. Quit the game\n"
     ]
    },
    {
     "name": "stdin",
     "output_type": "stream",
     "text": [
      "Enter your choice (1-4):  3\n"
     ]
    },
    {
     "name": "stdout",
     "output_type": "stream",
     "text": [
      "\n",
      "tommy's current status:\n",
      "Happiness: 50\n",
      "Hunger: 50\n",
      "\n",
      "What would you like to do?\n",
      "1. Feed the pet\n",
      "2. Play with the pet\n",
      "3. Check the pet's status\n",
      "4. Quit the game\n"
     ]
    },
    {
     "name": "stdin",
     "output_type": "stream",
     "text": [
      "Enter your choice (1-4):  1\n"
     ]
    },
    {
     "name": "stdout",
     "output_type": "stream",
     "text": [
      "\n",
      "You fed tommy. Hunger decreases, but happiness drops slightly.\n",
      "\n",
      "tommy's current status:\n",
      "Happiness: 45\n",
      "Hunger: 40\n",
      "\n",
      "What would you like to do?\n",
      "1. Feed the pet\n",
      "2. Play with the pet\n",
      "3. Check the pet's status\n",
      "4. Quit the game\n"
     ]
    },
    {
     "name": "stdin",
     "output_type": "stream",
     "text": [
      "Enter your choice (1-4):  2\n"
     ]
    },
    {
     "name": "stdout",
     "output_type": "stream",
     "text": [
      "\n",
      "You played with tommy. Happiness increases, but hunger rises slightly.\n",
      "\n",
      "tommy's current status:\n",
      "Happiness: 55\n",
      "Hunger: 45\n",
      "\n",
      "What would you like to do?\n",
      "1. Feed the pet\n",
      "2. Play with the pet\n",
      "3. Check the pet's status\n",
      "4. Quit the game\n"
     ]
    },
    {
     "name": "stdin",
     "output_type": "stream",
     "text": [
      "Enter your choice (1-4):  4\n"
     ]
    },
    {
     "name": "stdout",
     "output_type": "stream",
     "text": [
      "\n",
      "Thanks for playing! Goodbye from tommy!\n"
     ]
    }
   ],
   "source": [
    "import time\n",
    "import random\n",
    "\n",
    "# Virtual Pet\n",
    "class VirtualPet:\n",
    "    def __init__(self, name):\n",
    "        self.name = name\n",
    "        self.happiness = 50\n",
    "        self.hunger = 50\n",
    "\n",
    "    # to feed the pet\n",
    "    def feed(self):\n",
    "        if self.hunger > 0:\n",
    "            self.hunger -= 10\n",
    "            self.happiness -= 5  # Feeding slightly decreases happiness\n",
    "            print(f\"\\nYou fed {self.name}. Hunger decreases, but happiness drops slightly.\")\n",
    "        else:\n",
    "            print(f\"\\n{self.name} is already full!\")\n",
    "        self.display_status()\n",
    "\n",
    "    # Method to play with the pet\n",
    "    def play(self):\n",
    "        if self.happiness < 100:\n",
    "            self.happiness += 10\n",
    "            self.hunger += 5  # Playing slightly increases hunger\n",
    "            print(f\"\\nYou played with {self.name}. Happiness increases, but hunger rises slightly.\")\n",
    "        else:\n",
    "            print(f\"\\n{self.name} is already extremely happy!\")\n",
    "        self.display_status()\n",
    "\n",
    "    # check pet's status\n",
    "    def display_status(self):\n",
    "        print(f\"\\n{self.name}'s current status:\")\n",
    "        print(f\"Happiness: {self.happiness}\")\n",
    "        print(f\"Hunger: {self.hunger}\")\n",
    "\n",
    "    # increasing hunger and decreasing happiness\n",
    "    def time_passes(self):\n",
    "        self.hunger += 5\n",
    "        self.happiness -= 5\n",
    "\n",
    "        # If hunger > 80, pet becomes sad\n",
    "        if self.hunger > 80:\n",
    "            self.happiness -= 10\n",
    "            print(f\"\\n{self.name} is getting too hungry and becomes sad!\")\n",
    "        self.check_game_over()\n",
    "\n",
    "    # check if the game should end (hunger = 100 or happiness = 0)\n",
    "    def check_game_over(self):\n",
    "        if self.hunger >= 100:\n",
    "            print(f\"\\n{self.name} has starved! Game over.\")\n",
    "            return True\n",
    "        elif self.happiness <= 0:\n",
    "            print(f\"\\n{self.name} is too sad! Game over.\")\n",
    "            return True\n",
    "        return False\n",
    "\n",
    "# Function to simulate random events\n",
    "def random_event(pet):\n",
    "    events = [\n",
    "        f\"{pet.name} found a snack and hunger decreased!\",\n",
    "        f\"{pet.name} got sick and happiness decreased!\",\n",
    "        f\"{pet.name} found a toy and happiness increased!\"\n",
    "    ]\n",
    "    event = random.choice(events)\n",
    "    if \"snack\" in event:\n",
    "        pet.hunger = max(0, pet.hunger - 10)\n",
    "    elif \"sick\" in event:\n",
    "        pet.happiness = max(0, pet.happiness - 10)\n",
    "    elif \"toy\" in event:\n",
    "        pet.happiness = min(100, pet.happiness + 10)\n",
    "    \n",
    "    print(f\"\\nRandom event: {event}\")\n",
    "    pet.display_status()\n",
    "\n",
    "# Main game loop\n",
    "def game():\n",
    "    print(\"Welcome to the Virtual Pet Simulator!\")\n",
    "    pet_name = input(\"What would you like to name your pet? \")\n",
    "    pet = VirtualPet(pet_name)\n",
    "\n",
    "    actions_count = 0  # Track the number of actions the user performs\n",
    "\n",
    "    while True:\n",
    "        print(\"\\nWhat would you like to do?\")\n",
    "        print(\"1. Feed the pet\")\n",
    "        print(\"2. Play with the pet\")\n",
    "        print(\"3. Check the pet's status\")\n",
    "        print(\"4. Quit the game\")\n",
    "        \n",
    "        choice = input(\"Enter your choice (1-4): \")\n",
    "\n",
    "        if choice == \"1\":\n",
    "            pet.feed()\n",
    "        elif choice == \"2\":\n",
    "            pet.play()\n",
    "        elif choice == \"3\":\n",
    "            pet.display_status()\n",
    "        elif choice == \"4\":\n",
    "            print(f\"\\nThanks for playing! Goodbye from {pet.name}!\")\n",
    "            break\n",
    "        else:\n",
    "            print(\"\\nInvalid choice! Please enter a number between 1 and 4.\")\n",
    "\n",
    "        # Every few actions, time passes and random events might occur\n",
    "        actions_count += 1\n",
    "        if actions_count % 3 == 0:\n",
    "            pet.time_passes()\n",
    "\n",
    "            # 25% chance of a random event occurring\n",
    "            if random.random() < 0.25:\n",
    "                random_event(pet)\n",
    "        \n",
    "        # Check if game is over after each action\n",
    "        if pet.check_game_over():\n",
    "            break\n",
    "\n",
    "if __name__ == \"__main__\":\n",
    "    game()\n"
   ]
  },
  {
   "cell_type": "code",
   "execution_count": null,
   "id": "f4f96c6f-ba59-443b-bd7b-7132d74f1897",
   "metadata": {},
   "outputs": [],
   "source": []
  }
 ],
 "metadata": {
  "kernelspec": {
   "display_name": "Python 3 (ipykernel)",
   "language": "python",
   "name": "python3"
  },
  "language_info": {
   "codemirror_mode": {
    "name": "ipython",
    "version": 3
   },
   "file_extension": ".py",
   "mimetype": "text/x-python",
   "name": "python",
   "nbconvert_exporter": "python",
   "pygments_lexer": "ipython3",
   "version": "3.12.4"
  }
 },
 "nbformat": 4,
 "nbformat_minor": 5
}
